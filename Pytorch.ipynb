{
 "cells": [
  {
   "cell_type": "code",
   "execution_count": 7,
   "id": "08b1cb12",
   "metadata": {},
   "outputs": [
    {
     "name": "stdout",
     "output_type": "stream",
     "text": [
      "Collecting scikit-learn\n",
      "  Downloading scikit_learn-1.6.1-cp310-cp310-win_amd64.whl.metadata (15 kB)\n",
      "Requirement already satisfied: numpy>=1.19.5 in d:\\anaconda\\envs\\pytorch_env\\lib\\site-packages (from scikit-learn) (2.0.1)\n",
      "Collecting scipy>=1.6.0 (from scikit-learn)\n",
      "  Downloading scipy-1.15.1-cp310-cp310-win_amd64.whl.metadata (60 kB)\n",
      "Collecting joblib>=1.2.0 (from scikit-learn)\n",
      "  Downloading joblib-1.4.2-py3-none-any.whl.metadata (5.4 kB)\n",
      "Collecting threadpoolctl>=3.1.0 (from scikit-learn)\n",
      "  Downloading threadpoolctl-3.5.0-py3-none-any.whl.metadata (13 kB)\n",
      "Downloading scikit_learn-1.6.1-cp310-cp310-win_amd64.whl (11.1 MB)\n",
      "   ---------------------------------------- 0.0/11.1 MB ? eta -:--:--\n",
      "    --------------------------------------- 0.3/11.1 MB ? eta -:--:--\n",
      "    --------------------------------------- 0.3/11.1 MB ? eta -:--:--\n",
      "    --------------------------------------- 0.3/11.1 MB ? eta -:--:--\n",
      "    --------------------------------------- 0.3/11.1 MB ? eta -:--:--\n",
      "   - -------------------------------------- 0.5/11.1 MB 381.6 kB/s eta 0:00:28\n",
      "   --- ------------------------------------ 1.0/11.1 MB 740.5 kB/s eta 0:00:14\n",
      "   --- ------------------------------------ 1.0/11.1 MB 740.5 kB/s eta 0:00:14\n",
      "   ---- ----------------------------------- 1.3/11.1 MB 762.6 kB/s eta 0:00:13\n",
      "   ----- ---------------------------------- 1.6/11.1 MB 769.7 kB/s eta 0:00:13\n",
      "   ----- ---------------------------------- 1.6/11.1 MB 769.7 kB/s eta 0:00:13\n",
      "   ------- -------------------------------- 2.1/11.1 MB 857.5 kB/s eta 0:00:11\n",
      "   -------- ------------------------------- 2.4/11.1 MB 932.1 kB/s eta 0:00:10\n",
      "   --------- ------------------------------ 2.6/11.1 MB 938.1 kB/s eta 0:00:10\n",
      "   ---------- ----------------------------- 2.9/11.1 MB 953.2 kB/s eta 0:00:09\n",
      "   ----------- ---------------------------- 3.1/11.1 MB 961.2 kB/s eta 0:00:09\n",
      "   ------------ --------------------------- 3.4/11.1 MB 991.7 kB/s eta 0:00:08\n",
      "   ------------ --------------------------- 3.4/11.1 MB 991.7 kB/s eta 0:00:08\n",
      "   ------------ --------------------------- 3.4/11.1 MB 991.7 kB/s eta 0:00:08\n",
      "   ------------- -------------------------- 3.7/11.1 MB 894.0 kB/s eta 0:00:09\n",
      "   -------------- ------------------------- 3.9/11.1 MB 896.4 kB/s eta 0:00:09\n",
      "   ---------------- ----------------------- 4.7/11.1 MB 1.0 MB/s eta 0:00:07\n",
      "   ------------------ --------------------- 5.2/11.1 MB 1.1 MB/s eta 0:00:06\n",
      "   --------------------- ------------------ 6.0/11.1 MB 1.2 MB/s eta 0:00:05\n",
      "   ----------------------- ---------------- 6.6/11.1 MB 1.3 MB/s eta 0:00:04\n",
      "   -------------------------- ------------- 7.3/11.1 MB 1.4 MB/s eta 0:00:03\n",
      "   ------------------------------ --------- 8.4/11.1 MB 1.5 MB/s eta 0:00:02\n",
      "   -------------------------------- ------- 9.2/11.1 MB 1.6 MB/s eta 0:00:02\n",
      "   ----------------------------------- ---- 10.0/11.1 MB 1.7 MB/s eta 0:00:01\n",
      "   ------------------------------------ --- 10.2/11.1 MB 1.7 MB/s eta 0:00:01\n",
      "   ------------------------------------ --- 10.2/11.1 MB 1.7 MB/s eta 0:00:01\n",
      "   ------------------------------------- -- 10.5/11.1 MB 1.6 MB/s eta 0:00:01\n",
      "   -------------------------------------- - 10.7/11.1 MB 1.6 MB/s eta 0:00:01\n",
      "   ---------------------------------------- 11.1/11.1 MB 1.6 MB/s eta 0:00:00\n",
      "Downloading joblib-1.4.2-py3-none-any.whl (301 kB)\n",
      "Downloading scipy-1.15.1-cp310-cp310-win_amd64.whl (43.9 MB)\n",
      "   ---------------------------------------- 0.0/43.9 MB ? eta -:--:--\n",
      "   ---------------------------------------- 0.0/43.9 MB ? eta -:--:--\n",
      "   ---------------------------------------- 0.3/43.9 MB ? eta -:--:--\n",
      "   ---------------------------------------- 0.3/43.9 MB ? eta -:--:--\n",
      "   ---------------------------------------- 0.5/43.9 MB 672.2 kB/s eta 0:01:05\n",
      "    --------------------------------------- 1.0/43.9 MB 1.1 MB/s eta 0:00:40\n",
      "   - -------------------------------------- 1.3/43.9 MB 1.0 MB/s eta 0:00:41\n",
      "   - -------------------------------------- 1.6/43.9 MB 1.1 MB/s eta 0:00:39\n",
      "   - -------------------------------------- 1.8/43.9 MB 1.2 MB/s eta 0:00:37\n",
      "   - -------------------------------------- 2.1/43.9 MB 1.1 MB/s eta 0:00:38\n",
      "   - -------------------------------------- 2.1/43.9 MB 1.1 MB/s eta 0:00:38\n",
      "   -- ------------------------------------- 2.6/43.9 MB 1.1 MB/s eta 0:00:37\n",
      "   -- ------------------------------------- 3.1/43.9 MB 1.3 MB/s eta 0:00:32\n",
      "   --- ------------------------------------ 3.4/43.9 MB 1.3 MB/s eta 0:00:32\n",
      "   --- ------------------------------------ 3.7/43.9 MB 1.3 MB/s eta 0:00:31\n",
      "   --- ------------------------------------ 3.9/43.9 MB 1.3 MB/s eta 0:00:32\n",
      "   --- ------------------------------------ 4.2/43.9 MB 1.3 MB/s eta 0:00:32\n",
      "   ---- ----------------------------------- 4.5/43.9 MB 1.3 MB/s eta 0:00:32\n",
      "   ---- ----------------------------------- 4.7/43.9 MB 1.3 MB/s eta 0:00:32\n",
      "   ---- ----------------------------------- 5.2/43.9 MB 1.3 MB/s eta 0:00:30\n",
      "   ----- ---------------------------------- 6.0/43.9 MB 1.4 MB/s eta 0:00:27\n",
      "   ----- ---------------------------------- 6.3/43.9 MB 1.5 MB/s eta 0:00:26\n",
      "   ----- ---------------------------------- 6.6/43.9 MB 1.5 MB/s eta 0:00:26\n",
      "   ----- ---------------------------------- 6.6/43.9 MB 1.5 MB/s eta 0:00:26\n",
      "   ----- ---------------------------------- 6.6/43.9 MB 1.5 MB/s eta 0:00:26\n",
      "   ----- ---------------------------------- 6.6/43.9 MB 1.5 MB/s eta 0:00:26\n",
      "   ----- ---------------------------------- 6.6/43.9 MB 1.5 MB/s eta 0:00:26\n",
      "   ------ --------------------------------- 6.8/43.9 MB 1.2 MB/s eta 0:00:31\n",
      "   ------ --------------------------------- 7.1/43.9 MB 1.2 MB/s eta 0:00:31\n",
      "   ------ --------------------------------- 7.3/43.9 MB 1.2 MB/s eta 0:00:31\n",
      "   ------ --------------------------------- 7.6/43.9 MB 1.2 MB/s eta 0:00:31\n",
      "   ------- -------------------------------- 8.1/43.9 MB 1.2 MB/s eta 0:00:29\n",
      "   ------- -------------------------------- 8.7/43.9 MB 1.3 MB/s eta 0:00:28\n",
      "   -------- ------------------------------- 9.4/43.9 MB 1.4 MB/s eta 0:00:26\n",
      "   --------- ------------------------------ 10.2/43.9 MB 1.4 MB/s eta 0:00:24\n",
      "   ---------- ----------------------------- 11.3/43.9 MB 1.5 MB/s eta 0:00:22\n",
      "   ---------- ----------------------------- 12.1/43.9 MB 1.6 MB/s eta 0:00:21\n",
      "   ----------- ---------------------------- 12.6/43.9 MB 1.6 MB/s eta 0:00:20\n",
      "   ------------ --------------------------- 13.4/43.9 MB 1.7 MB/s eta 0:00:19\n",
      "   ------------ --------------------------- 14.2/43.9 MB 1.7 MB/s eta 0:00:18\n",
      "   ------------- -------------------------- 14.7/43.9 MB 1.8 MB/s eta 0:00:17\n",
      "   -------------- ------------------------- 15.5/43.9 MB 1.8 MB/s eta 0:00:16\n",
      "   -------------- ------------------------- 16.3/43.9 MB 1.8 MB/s eta 0:00:15\n",
      "   --------------- ------------------------ 17.0/43.9 MB 1.9 MB/s eta 0:00:15\n",
      "   ---------------- ----------------------- 17.8/43.9 MB 1.9 MB/s eta 0:00:14\n",
      "   ---------------- ----------------------- 18.1/43.9 MB 1.9 MB/s eta 0:00:14\n",
      "   ----------------- ---------------------- 18.9/43.9 MB 2.0 MB/s eta 0:00:13\n",
      "   ----------------- ---------------------- 19.4/43.9 MB 2.0 MB/s eta 0:00:13\n",
      "   ----------------- ---------------------- 19.7/43.9 MB 2.0 MB/s eta 0:00:13\n",
      "   ------------------ --------------------- 19.9/43.9 MB 1.9 MB/s eta 0:00:13\n",
      "   ------------------ --------------------- 20.2/43.9 MB 1.9 MB/s eta 0:00:13\n",
      "   ------------------ --------------------- 20.4/43.9 MB 1.9 MB/s eta 0:00:13\n",
      "   ------------------- -------------------- 21.0/43.9 MB 1.9 MB/s eta 0:00:12\n",
      "   ------------------- -------------------- 21.2/43.9 MB 1.9 MB/s eta 0:00:12\n",
      "   ------------------- -------------------- 21.5/43.9 MB 1.9 MB/s eta 0:00:12\n",
      "   ------------------- -------------------- 21.5/43.9 MB 1.9 MB/s eta 0:00:12\n",
      "   -------------------- ------------------- 22.0/43.9 MB 1.9 MB/s eta 0:00:12\n",
      "   -------------------- ------------------- 22.3/43.9 MB 1.9 MB/s eta 0:00:12\n",
      "   -------------------- ------------------- 22.5/43.9 MB 1.9 MB/s eta 0:00:12\n",
      "   -------------------- ------------------- 22.5/43.9 MB 1.9 MB/s eta 0:00:12\n",
      "   -------------------- ------------------- 22.8/43.9 MB 1.8 MB/s eta 0:00:12\n",
      "   --------------------- ------------------ 23.1/43.9 MB 1.8 MB/s eta 0:00:12\n",
      "   --------------------- ------------------ 23.3/43.9 MB 1.8 MB/s eta 0:00:12\n",
      "   --------------------- ------------------ 23.6/43.9 MB 1.8 MB/s eta 0:00:12\n",
      "   --------------------- ------------------ 24.1/43.9 MB 1.8 MB/s eta 0:00:12\n",
      "   ---------------------- ----------------- 24.6/43.9 MB 1.8 MB/s eta 0:00:11\n",
      "   ---------------------- ----------------- 24.9/43.9 MB 1.8 MB/s eta 0:00:11\n",
      "   ---------------------- ----------------- 24.9/43.9 MB 1.8 MB/s eta 0:00:11\n",
      "   ---------------------- ----------------- 24.9/43.9 MB 1.8 MB/s eta 0:00:11\n",
      "   ---------------------- ----------------- 24.9/43.9 MB 1.8 MB/s eta 0:00:11\n",
      "   ---------------------- ----------------- 24.9/43.9 MB 1.8 MB/s eta 0:00:11\n",
      "   ---------------------- ----------------- 24.9/43.9 MB 1.8 MB/s eta 0:00:11\n",
      "   ---------------------- ----------------- 25.2/43.9 MB 1.6 MB/s eta 0:00:12\n",
      "   ---------------------- ----------------- 25.2/43.9 MB 1.6 MB/s eta 0:00:12\n",
      "   ---------------------- ----------------- 25.2/43.9 MB 1.6 MB/s eta 0:00:12\n",
      "   ----------------------- ---------------- 25.7/43.9 MB 1.6 MB/s eta 0:00:12\n",
      "   ------------------------ --------------- 26.5/43.9 MB 1.6 MB/s eta 0:00:11\n",
      "   ------------------------ --------------- 27.3/43.9 MB 1.7 MB/s eta 0:00:10\n",
      "   ------------------------- -------------- 27.5/43.9 MB 1.7 MB/s eta 0:00:10\n",
      "   ------------------------- -------------- 27.8/43.9 MB 1.7 MB/s eta 0:00:10\n",
      "   ------------------------- -------------- 28.0/43.9 MB 1.7 MB/s eta 0:00:10\n",
      "   -------------------------- ------------- 28.8/43.9 MB 1.7 MB/s eta 0:00:09\n",
      "   -------------------------- ------------- 29.4/43.9 MB 1.7 MB/s eta 0:00:09\n",
      "   --------------------------- ------------ 29.9/43.9 MB 1.7 MB/s eta 0:00:09\n",
      "   --------------------------- ------------ 30.4/43.9 MB 1.7 MB/s eta 0:00:08\n",
      "   ---------------------------- ----------- 30.9/43.9 MB 1.7 MB/s eta 0:00:08\n",
      "   ---------------------------- ----------- 31.7/43.9 MB 1.7 MB/s eta 0:00:08\n",
      "   ----------------------------- ---------- 32.2/43.9 MB 1.7 MB/s eta 0:00:07\n",
      "   ----------------------------- ---------- 32.8/43.9 MB 1.8 MB/s eta 0:00:07\n",
      "   ------------------------------ --------- 33.6/43.9 MB 1.8 MB/s eta 0:00:06\n",
      "   ------------------------------- -------- 34.3/43.9 MB 1.8 MB/s eta 0:00:06\n",
      "   ------------------------------- -------- 34.9/43.9 MB 1.8 MB/s eta 0:00:05\n",
      "   -------------------------------- ------- 35.7/43.9 MB 1.8 MB/s eta 0:00:05\n",
      "   --------------------------------- ------ 36.4/43.9 MB 1.9 MB/s eta 0:00:05\n",
      "   ---------------------------------- ----- 37.5/43.9 MB 1.9 MB/s eta 0:00:04\n",
      "   ---------------------------------- ----- 38.3/43.9 MB 1.9 MB/s eta 0:00:03\n",
      "   ----------------------------------- ---- 38.5/43.9 MB 1.9 MB/s eta 0:00:03\n",
      "   ----------------------------------- ---- 39.1/43.9 MB 1.9 MB/s eta 0:00:03\n",
      "   ------------------------------------ --- 39.8/43.9 MB 1.9 MB/s eta 0:00:03\n",
      "   ------------------------------------- -- 40.6/43.9 MB 1.9 MB/s eta 0:00:02\n",
      "   ------------------------------------- -- 41.2/43.9 MB 1.9 MB/s eta 0:00:02\n",
      "   -------------------------------------- - 41.9/43.9 MB 2.0 MB/s eta 0:00:02\n",
      "   -------------------------------------- - 42.7/43.9 MB 2.0 MB/s eta 0:00:01\n",
      "   ---------------------------------------  43.5/43.9 MB 2.0 MB/s eta 0:00:01\n",
      "   ---------------------------------------  43.8/43.9 MB 2.0 MB/s eta 0:00:01\n",
      "   ---------------------------------------- 43.9/43.9 MB 2.0 MB/s eta 0:00:00\n",
      "Downloading threadpoolctl-3.5.0-py3-none-any.whl (18 kB)\n",
      "Installing collected packages: threadpoolctl, scipy, joblib, scikit-learn\n",
      "Successfully installed joblib-1.4.2 scikit-learn-1.6.1 scipy-1.15.1 threadpoolctl-3.5.0\n"
     ]
    }
   ],
   "source": [
    "# !pip install scikit-learn\n"
   ]
  },
  {
   "cell_type": "code",
   "execution_count": 1,
   "id": "b48d2425",
   "metadata": {},
   "outputs": [
    {
     "name": "stdout",
     "output_type": "stream",
     "text": [
      "2.5.1\n"
     ]
    }
   ],
   "source": [
    "import torch\n",
    "import sklearn\n",
    "from sklearn import datasets\n",
    "print(torch.__version__)\n"
   ]
  },
  {
   "cell_type": "code",
   "execution_count": 3,
   "id": "2a8f050a",
   "metadata": {},
   "outputs": [
    {
     "data": {
      "text/plain": [
       "torch.Size([6])"
      ]
     },
     "execution_count": 3,
     "metadata": {},
     "output_type": "execute_result"
    }
   ],
   "source": [
    "temp = torch.FloatTensor([23,24,24.5,26,27.2,23.0])\n",
    "temp.size()\n"
   ]
  },
  {
   "cell_type": "code",
   "execution_count": 7,
   "id": "5e591cec",
   "metadata": {},
   "outputs": [
    {
     "name": "stdout",
     "output_type": "stream",
     "text": [
      "tensor([[0.2469, 0.3831],\n",
      "        [0.5815, 0.3618]])\n"
     ]
    }
   ],
   "source": [
    "x = torch.rand(2,2)\n",
    "print(x)"
   ]
  },
  {
   "cell_type": "code",
   "execution_count": 6,
   "id": "2f7572f7",
   "metadata": {},
   "outputs": [
    {
     "name": "stdout",
     "output_type": "stream",
     "text": [
      "tensor([[[[2.1257e+34, 7.4129e-43],\n",
      "          [0.0000e+00, 0.0000e+00]],\n",
      "\n",
      "         [[0.0000e+00, 0.0000e+00],\n",
      "          [0.0000e+00, 0.0000e+00]],\n",
      "\n",
      "         [[0.0000e+00, 0.0000e+00],\n",
      "          [0.0000e+00, 0.0000e+00]]],\n",
      "\n",
      "\n",
      "        [[[0.0000e+00, 0.0000e+00],\n",
      "          [0.0000e+00, 0.0000e+00]],\n",
      "\n",
      "         [[0.0000e+00, 0.0000e+00],\n",
      "          [0.0000e+00, 0.0000e+00]],\n",
      "\n",
      "         [[0.0000e+00, 0.0000e+00],\n",
      "          [0.0000e+00, 0.0000e+00]]]])\n"
     ]
    }
   ],
   "source": [
    "x = torch.empty(2,3,2,2)\n",
    "print(x)"
   ]
  },
  {
   "cell_type": "code",
   "execution_count": 14,
   "id": "3cc38bad",
   "metadata": {},
   "outputs": [
    {
     "name": "stdout",
     "output_type": "stream",
     "text": [
      "tensor([2.5000, 0.1000])\n"
     ]
    }
   ],
   "source": [
    "x = torch.tensor([2.5,0.1])\n",
    "print(x)"
   ]
  },
  {
   "cell_type": "code",
   "execution_count": 15,
   "id": "f11bd1b1",
   "metadata": {},
   "outputs": [],
   "source": [
    "x = torch.rand(2,2)\n",
    "y = torch.rand(2,2)"
   ]
  },
  {
   "cell_type": "code",
   "execution_count": 18,
   "id": "2a9a4329",
   "metadata": {},
   "outputs": [
    {
     "name": "stdout",
     "output_type": "stream",
     "text": [
      "tensor([[0.6783, 0.6933],\n",
      "        [1.0602, 1.2749]])\n"
     ]
    }
   ],
   "source": [
    "z=x+y\n",
    "print(z)"
   ]
  },
  {
   "cell_type": "code",
   "execution_count": 19,
   "id": "a732a088",
   "metadata": {},
   "outputs": [
    {
     "name": "stdout",
     "output_type": "stream",
     "text": [
      "tensor([[0.6783, 0.6933],\n",
      "        [1.0602, 1.2749]])\n"
     ]
    }
   ],
   "source": [
    "z=torch.add(x,y)\n",
    "print(z)"
   ]
  },
  {
   "cell_type": "code",
   "execution_count": 20,
   "id": "fcd3441c",
   "metadata": {},
   "outputs": [
    {
     "name": "stdout",
     "output_type": "stream",
     "text": [
      "tensor([[0.6783, 0.6933],\n",
      "        [1.0602, 1.2749]])\n"
     ]
    }
   ],
   "source": [
    "y.add_(x)\n",
    "print(y)"
   ]
  },
  {
   "cell_type": "code",
   "execution_count": 23,
   "id": "89316720",
   "metadata": {},
   "outputs": [
    {
     "name": "stdout",
     "output_type": "stream",
     "text": [
      "tensor([[-0.4696, -0.2642],\n",
      "        [-0.9244, -0.8447]])\n"
     ]
    }
   ],
   "source": [
    "z=torch.sub(x,y)\n",
    "print(z)"
   ]
  },
  {
   "cell_type": "code",
   "execution_count": 24,
   "id": "5cd5414d",
   "metadata": {},
   "outputs": [
    {
     "name": "stdout",
     "output_type": "stream",
     "text": [
      "tensor([[0.1416, 0.2975],\n",
      "        [0.1440, 0.5483]])\n"
     ]
    }
   ],
   "source": [
    "z=torch.mul(x,y)\n",
    "print(z)"
   ]
  },
  {
   "cell_type": "code",
   "execution_count": 25,
   "id": "3ec0383f",
   "metadata": {},
   "outputs": [
    {
     "name": "stdout",
     "output_type": "stream",
     "text": [
      "tensor([[0.3078, 0.6189],\n",
      "        [0.1281, 0.3374]])\n"
     ]
    }
   ],
   "source": [
    "z=torch.div(x,y)\n",
    "print(z)"
   ]
  },
  {
   "cell_type": "code",
   "execution_count": 32,
   "id": "d349320e",
   "metadata": {},
   "outputs": [
    {
     "name": "stdout",
     "output_type": "stream",
     "text": [
      "tensor([[0.1383, 0.9392, 0.8613],\n",
      "        [0.3009, 0.1112, 0.5376],\n",
      "        [0.7766, 0.1631, 0.8097],\n",
      "        [0.4838, 0.0127, 0.2694],\n",
      "        [0.7242, 0.6894, 0.5827]])\n",
      "0.11118316650390625\n"
     ]
    }
   ],
   "source": [
    "x = torch.rand(5,3)\n",
    "print(x)\n",
    "print(x[1,1].item())"
   ]
  },
  {
   "cell_type": "code",
   "execution_count": 37,
   "id": "7c26feaf",
   "metadata": {},
   "outputs": [
    {
     "name": "stdout",
     "output_type": "stream",
     "text": [
      "tensor([[0.6062, 0.0705],\n",
      "        [0.7276, 0.6356]])\n",
      "torch.Size([2, 2])\n"
     ]
    }
   ],
   "source": [
    "x = torch.rand(2,2)\n",
    "print(x)\n",
    "y = x.view(-1,2)\n",
    "print(y.size())"
   ]
  },
  {
   "cell_type": "code",
   "execution_count": 2,
   "id": "82acfaac",
   "metadata": {},
   "outputs": [],
   "source": [
    "import numpy as np"
   ]
  },
  {
   "cell_type": "code",
   "execution_count": 40,
   "id": "68ebe7da",
   "metadata": {},
   "outputs": [
    {
     "name": "stdout",
     "output_type": "stream",
     "text": [
      "tensor([1., 1., 1., 1., 1.])\n"
     ]
    }
   ],
   "source": [
    "a = torch.ones(5)\n",
    "print(a)"
   ]
  },
  {
   "cell_type": "code",
   "execution_count": 41,
   "id": "14d1fc7c",
   "metadata": {},
   "outputs": [
    {
     "name": "stdout",
     "output_type": "stream",
     "text": [
      "[1. 1. 1. 1. 1.]\n"
     ]
    }
   ],
   "source": [
    "b = a.numpy()\n",
    "print(b)"
   ]
  },
  {
   "cell_type": "code",
   "execution_count": 43,
   "id": "69ba0b17",
   "metadata": {},
   "outputs": [
    {
     "name": "stdout",
     "output_type": "stream",
     "text": [
      "tensor([3., 3., 3., 3., 3.])\n",
      "[3. 3. 3. 3. 3.]\n"
     ]
    }
   ],
   "source": [
    "a.add_(1)\n",
    "print(a)\n",
    "print(b)"
   ]
  },
  {
   "cell_type": "code",
   "execution_count": 44,
   "id": "10fd516d",
   "metadata": {},
   "outputs": [
    {
     "name": "stdout",
     "output_type": "stream",
     "text": [
      "[1. 1. 1. 1. 1.]\n",
      "tensor([1., 1., 1., 1., 1.], dtype=torch.float64)\n"
     ]
    }
   ],
   "source": [
    "a = np.ones(5)\n",
    "print(a)\n",
    "b = torch.from_numpy(a)\n",
    "print(b)"
   ]
  },
  {
   "cell_type": "code",
   "execution_count": 45,
   "id": "d2457dea",
   "metadata": {},
   "outputs": [
    {
     "name": "stdout",
     "output_type": "stream",
     "text": [
      "[2. 2. 2. 2. 2.] tensor([2., 2., 2., 2., 2.], dtype=torch.float64)\n"
     ]
    }
   ],
   "source": [
    "a += 1\n",
    "print(a,b)"
   ]
  },
  {
   "cell_type": "code",
   "execution_count": 47,
   "id": "126f2a65",
   "metadata": {},
   "outputs": [],
   "source": [
    "if torch.cuda.is_available():\n",
    "    device = torch.device(\"cuda\")\n",
    "    x = torch.ones(5, device=device)\n",
    "    y = torch.ones(5)\n",
    "    y = y.to(device)\n",
    "    z = x+y\n",
    "    z= z.to(\"cpu\")"
   ]
  },
  {
   "cell_type": "code",
   "execution_count": 48,
   "id": "6ed53abf",
   "metadata": {},
   "outputs": [
    {
     "name": "stdout",
     "output_type": "stream",
     "text": [
      "tensor([1., 1., 1., 1., 1.], requires_grad=True)\n"
     ]
    }
   ],
   "source": [
    "x = torch.ones(5, requires_grad = True)\n",
    "print(x)"
   ]
  },
  {
   "cell_type": "code",
   "execution_count": 57,
   "id": "44523d9f",
   "metadata": {},
   "outputs": [
    {
     "name": "stdout",
     "output_type": "stream",
     "text": [
      "tensor([ 0.1765, -0.5754,  1.9996], requires_grad=True)\n",
      "tensor([2.1765, 1.4246, 3.9996], grad_fn=<AddBackward0>)\n",
      "tensor(15.1757, grad_fn=<MeanBackward0>)\n"
     ]
    }
   ],
   "source": [
    "x = torch.randn(3, requires_grad = True)\n",
    "print(x)\n",
    "\n",
    "y = x+2\n",
    "print(y)\n",
    "\n",
    "z = y*y*2\n",
    "z = z.mean()\n",
    "print(z)\n",
    "\n",
    "z.backward()\n",
    "# print(x.grad)"
   ]
  },
  {
   "cell_type": "code",
   "execution_count": 60,
   "id": "bec29e98",
   "metadata": {},
   "outputs": [
    {
     "name": "stdout",
     "output_type": "stream",
     "text": [
      "tensor([ 1.5084, -0.7314,  0.7727], requires_grad=True)\n",
      "tensor([3.5084, 1.2686, 2.7727])\n"
     ]
    }
   ],
   "source": [
    "x = torch.randn(3, requires_grad = True)\n",
    "print(x)\n",
    "\n",
    "#x.requires_grad_(False)\n",
    "# x.detach()\n",
    "with torch.no_grad():\n",
    "    y = x+2\n",
    "    print(y)"
   ]
  },
  {
   "cell_type": "code",
   "execution_count": 64,
   "id": "4e7bcafe",
   "metadata": {},
   "outputs": [
    {
     "name": "stdout",
     "output_type": "stream",
     "text": [
      "tensor(1., grad_fn=<PowBackward0>)\n",
      "tensor(-2.)\n"
     ]
    }
   ],
   "source": [
    "###backpropagation theory\n",
    "x = torch.tensor(1.0)\n",
    "y = torch.tensor(2.0)\n",
    "w = torch.tensor(1.0, requires_grad = True)\n",
    "\n",
    "#forward pass and compute the loss\n",
    "y_hat = w*x\n",
    "loss = (y_hat - y)**2\n",
    "print(loss)\n",
    "\n",
    "#backward pass\n",
    "loss.backward()\n",
    "print(w.grad)\n",
    "\n"
   ]
  },
  {
   "cell_type": "code",
   "execution_count": 3,
   "id": "d4b342ce",
   "metadata": {},
   "outputs": [],
   "source": [
    "# pip install matplotlib"
   ]
  },
  {
   "cell_type": "markdown",
   "id": "575c9972",
   "metadata": {},
   "source": [
    "# Linear Regression"
   ]
  },
  {
   "cell_type": "code",
   "execution_count": 3,
   "id": "6b555600",
   "metadata": {},
   "outputs": [],
   "source": [
    "import torch.nn as nn\n",
    "from sklearn import datasets\n",
    "import matplotlib.pyplot as plt"
   ]
  },
  {
   "cell_type": "code",
   "execution_count": 4,
   "id": "40227f6e",
   "metadata": {},
   "outputs": [
    {
     "name": "stderr",
     "output_type": "stream",
     "text": [
      "D:\\Anaconda\\envs\\pytorch_env\\lib\\site-packages\\torch\\autograd\\graph.py:825: UserWarning: CUDA initialization: The NVIDIA driver on your system is too old (found version 9010). Please update your GPU driver by downloading and installing a new version from the URL: http://www.nvidia.com/Download/index.aspx Alternatively, go to: https://pytorch.org to install a PyTorch version that has been compiled with your version of the CUDA driver. (Triggered internally at C:\\cb\\pytorch_1000000000000\\work\\c10\\cuda\\CUDAFunctions.cpp:108.)\n",
      "  return Variable._execution_engine.run_backward(  # Calls into the C++ engine to run the backward pass\n"
     ]
    },
    {
     "name": "stdout",
     "output_type": "stream",
     "text": [
      "epoch: 10, loss = 4367.2505\n",
      "epoch: 20, loss = 3260.9285\n",
      "epoch: 30, loss = 2459.7354\n",
      "epoch: 40, loss = 1878.9332\n",
      "epoch: 50, loss = 1457.5071\n",
      "epoch: 60, loss = 1151.4617\n",
      "epoch: 70, loss = 929.0324\n",
      "epoch: 80, loss = 767.2564\n",
      "epoch: 90, loss = 649.5161\n",
      "epoch: 100, loss = 563.7727\n"
     ]
    },
    {
     "data": {
      "image/png": "[encoded data removed]",
      "text/plain": [
       "<Figure size 640x480 with 1 Axes>"
      ]
     },
     "metadata": {},
     "output_type": "display_data"
    }
   ],
   "source": [
    "#prepare data\n",
    "X_numpy, y_numpy = datasets.make_regression(n_samples=100, n_features=1, noise=20, random_state=1)\n",
    "\n",
    "X = torch.from_numpy(X_numpy.astype(np.float32))\n",
    "y= torch.from_numpy(y_numpy.astype(np.float32))\n",
    "\n",
    "y = y.view(y.shape[0],1)\n",
    "n_samples, n_features = X.shape\n",
    "\n",
    "#model\n",
    "input_size = n_features\n",
    "output_size = 1\n",
    "model = nn.Linear(input_size, output_size)\n",
    "\n",
    "#loss and optimizer\n",
    "learning_rate = 0.01\n",
    "criterion = nn.MSELoss()\n",
    "optimizer = torch.optim.SGD(model.parameters(),lr=learning_rate)\n",
    "\n",
    "#training loop\n",
    "num_epochs = 100\n",
    "for epoch in range(num_epochs):\n",
    "    #forward pass and loss\n",
    "    y_predicted = model(X)\n",
    "    loss = criterion(y_predicted,y)\n",
    "    \n",
    "    #backward pass\n",
    "    loss.backward()\n",
    "    \n",
    "    #update\n",
    "    optimizer.step()\n",
    "    \n",
    "    optimizer.zero_grad()\n",
    "    \n",
    "    if(epoch+1)% 10 == 0:\n",
    "        print(f'epoch: {epoch+1}, loss = {loss.item():.4f}')\n",
    "        \n",
    "#plot\n",
    "predicted = model(X).detach().numpy()\n",
    "plt.plot(X_numpy, y_numpy, 'ro')\n",
    "plt.plot(X_numpy, predicted, 'b')\n",
    "plt.show()\n"
   ]
  },
  {
   "cell_type": "markdown",
   "id": "f916bb08",
   "metadata": {},
   "source": [
    "# Dataset and Data Loader"
   ]
  },
  {
   "cell_type": "code",
   "execution_count": 6,
   "id": "b9b4d4d6",
   "metadata": {},
   "outputs": [],
   "source": [
    "import torchvision\n",
    "from torch.utils.data import Dataset, DataLoader\n",
    "import math"
   ]
  },
  {
   "cell_type": "code",
   "execution_count": null,
   "id": "f55289e9",
   "metadata": {},
   "outputs": [],
   "source": [
    "class Winedataset(Dataset)"
   ]
  },
  {
   "cell_type": "markdown",
   "id": "7a328f9c",
   "metadata": {},
   "source": [
    "# Feed Forward Neural Network: MNIST dataset"
   ]
  },
  {
   "cell_type": "code",
   "execution_count": 7,
   "id": "d7300549",
   "metadata": {},
   "outputs": [
    {
     "data": {
      "image/png": "[encoded data removed]",
      "text/plain": [
       "<Figure size 640x480 with 6 Axes>"
      ]
     },
     "metadata": {},
     "output_type": "display_data"
    }
   ],
   "source": [
    "import torch\n",
    "import torch.nn as nn\n",
    "import torchvision\n",
    "import torchvision.transforms as transforms\n",
    "import matplotlib.pyplot as plt\n",
    "\n",
    "# Device configuration\n",
    "device = torch.device('cuda' if torch.cuda.is_available() else 'cpu')\n",
    "\n",
    "# Hyper-parameters \n",
    "input_size = 784 # 28x28\n",
    "hidden_size = 500 \n",
    "num_classes = 10\n",
    "num_epochs = 2\n",
    "batch_size = 100\n",
    "learning_rate = 0.001\n",
    "\n",
    "# MNIST dataset \n",
    "train_dataset = torchvision.datasets.MNIST(root='./data', \n",
    "                                           train=True, \n",
    "                                           transform=transforms.ToTensor(),  \n",
    "                                           download=True)\n",
    "\n",
    "test_dataset = torchvision.datasets.MNIST(root='./data', \n",
    "                                          train=False, \n",
    "                                          transform=transforms.ToTensor())\n",
    "\n",
    "# Data loader\n",
    "train_loader = torch.utils.data.DataLoader(dataset=train_dataset, \n",
    "                                           batch_size=batch_size, \n",
    "                                           shuffle=True)\n",
    "\n",
    "test_loader = torch.utils.data.DataLoader(dataset=test_dataset, \n",
    "                                          batch_size=batch_size, \n",
    "                                          shuffle=False)\n",
    "\n",
    "examples = iter(test_loader)\n",
    "example_data, example_targets = next(examples)\n",
    "\n",
    "for i in range(6):\n",
    "    plt.subplot(2,3,i+1)\n",
    "    plt.imshow(example_data[i][0], cmap='gray')\n",
    "plt.show()\n"
   ]
  },
  {
   "cell_type": "code",
   "execution_count": 6,
   "id": "e404d6c8",
   "metadata": {},
   "outputs": [
    {
     "name": "stdout",
     "output_type": "stream",
     "text": [
      "cpu\n",
      "Epoch [1/2], Step [100/600], Loss: 0.2527\n",
      "Epoch [1/2], Step [200/600], Loss: 0.2923\n",
      "Epoch [1/2], Step [300/600], Loss: 0.2134\n",
      "Epoch [1/2], Step [400/600], Loss: 0.1355\n",
      "Epoch [1/2], Step [500/600], Loss: 0.1308\n",
      "Epoch [1/2], Step [600/600], Loss: 0.0887\n",
      "Epoch [2/2], Step [100/600], Loss: 0.1495\n",
      "Epoch [2/2], Step [200/600], Loss: 0.0350\n",
      "Epoch [2/2], Step [300/600], Loss: 0.1976\n",
      "Epoch [2/2], Step [400/600], Loss: 0.1290\n",
      "Epoch [2/2], Step [500/600], Loss: 0.1124\n",
      "Epoch [2/2], Step [600/600], Loss: 0.1210\n",
      "Accuracy of the network on the 10000 test images: 97.19 %\n"
     ]
    }
   ],
   "source": [
    "# Fully connected neural network with one hidden layer\n",
    "class NeuralNet(nn.Module):\n",
    "    def __init__(self, input_size, hidden_size, num_classes):\n",
    "        super(NeuralNet, self).__init__()\n",
    "        self.input_size = input_size\n",
    "        self.l1 = nn.Linear(input_size, hidden_size) \n",
    "        self.relu = nn.ReLU()\n",
    "        self.l2 = nn.Linear(hidden_size, num_classes)  \n",
    "    \n",
    "    def forward(self, x):\n",
    "        out = self.l1(x)\n",
    "        out = self.relu(out)\n",
    "        out = self.l2(out)\n",
    "        # no activation and no softmax at the end\n",
    "        return out\n",
    "\n",
    "model = NeuralNet(input_size, hidden_size, num_classes).to(device)\n",
    "\n",
    "# Loss and optimizer\n",
    "criterion = nn.CrossEntropyLoss()\n",
    "optimizer = torch.optim.Adam(model.parameters(), lr=learning_rate)  \n",
    "print(device)\n",
    "\n",
    "# Train the model\n",
    "n_total_steps = len(train_loader)\n",
    "for epoch in range(num_epochs):\n",
    "    for i, (images, labels) in enumerate(train_loader):  \n",
    "        # origin shape: [100, 1, 28, 28]\n",
    "        # resized: [100, 784]\n",
    "        images = images.reshape(-1, 28*28).to(device)\n",
    "        labels = labels.to(device)\n",
    "        \n",
    "        # Forward pass\n",
    "        outputs = model(images)\n",
    "        loss = criterion(outputs, labels)\n",
    "        \n",
    "        # Backward and optimize\n",
    "        optimizer.zero_grad()\n",
    "        loss.backward()\n",
    "        optimizer.step()\n",
    "        \n",
    "        if (i+1) % 100 == 0:\n",
    "            print (f'Epoch [{epoch+1}/{num_epochs}], Step [{i+1}/{n_total_steps}], Loss: {loss.item():.4f}')\n",
    "\n",
    "# Test the model\n",
    "# In test phase, we don't need to compute gradients (for memory efficiency)\n",
    "with torch.no_grad():\n",
    "    n_correct = 0\n",
    "    n_samples = 0\n",
    "    for images, labels in test_loader:\n",
    "        images = images.reshape(-1, 28*28).to(device)\n",
    "        labels = labels.to(device)\n",
    "        outputs = model(images)\n",
    "        # max returns (value ,index)\n",
    "        _, predicted = torch.max(outputs.data, 1)\n",
    "        n_samples += labels.size(0)\n",
    "        n_correct += (predicted == labels).sum().item()\n",
    "\n",
    "    acc = 100.0 * n_correct / n_samples\n",
    "    print(f'Accuracy of the network on the 10000 test images: {acc} %')"
   ]
  },
  {
   "cell_type": "markdown",
   "id": "1982e2f5",
   "metadata": {},
   "source": [
    "# Convolutional Neural Network: Cifar dataset"
   ]
  },
  {
   "cell_type": "code",
   "execution_count": 8,
   "id": "63d29085",
   "metadata": {},
   "outputs": [
    {
     "name": "stdout",
     "output_type": "stream",
     "text": [
      "Downloading https://www.cs.toronto.edu/~kriz/cifar-10-python.tar.gz to ./data\\cifar-10-python.tar.gz\n"
     ]
    },
    {
     "name": "stderr",
     "output_type": "stream",
     "text": [
      "100.0%\n"
     ]
    },
    {
     "name": "stdout",
     "output_type": "stream",
     "text": [
      "Extracting ./data\\cifar-10-python.tar.gz to ./data\n",
      "Files already downloaded and verified\n"
     ]
    },
    {
     "data": {
      "image/png": "[encoded data removed]",
      "text/plain": [
       "<Figure size 640x480 with 1 Axes>"
      ]
     },
     "metadata": {},
     "output_type": "display_data"
    },
    {
     "name": "stdout",
     "output_type": "stream",
     "text": [
      "Epoch [1/5], Step [2000/12500], Loss: 2.3202\n",
      "Epoch [1/5], Step [4000/12500], Loss: 2.3087\n",
      "Epoch [1/5], Step [6000/12500], Loss: 2.2951\n",
      "Epoch [1/5], Step [8000/12500], Loss: 2.2840\n",
      "Epoch [1/5], Step [10000/12500], Loss: 2.1492\n",
      "Epoch [1/5], Step [12000/12500], Loss: 1.6533\n",
      "Epoch [2/5], Step [2000/12500], Loss: 2.1939\n",
      "Epoch [2/5], Step [4000/12500], Loss: 1.7472\n",
      "Epoch [2/5], Step [6000/12500], Loss: 0.9527\n",
      "Epoch [2/5], Step [8000/12500], Loss: 1.9096\n",
      "Epoch [2/5], Step [10000/12500], Loss: 2.5166\n",
      "Epoch [2/5], Step [12000/12500], Loss: 1.4857\n",
      "Epoch [3/5], Step [2000/12500], Loss: 2.1980\n",
      "Epoch [3/5], Step [4000/12500], Loss: 1.7587\n",
      "Epoch [3/5], Step [6000/12500], Loss: 2.7836\n",
      "Epoch [3/5], Step [8000/12500], Loss: 1.4231\n",
      "Epoch [3/5], Step [10000/12500], Loss: 2.1288\n",
      "Epoch [3/5], Step [12000/12500], Loss: 1.4512\n",
      "Epoch [4/5], Step [2000/12500], Loss: 2.5697\n",
      "Epoch [4/5], Step [4000/12500], Loss: 1.1568\n",
      "Epoch [4/5], Step [6000/12500], Loss: 1.6993\n",
      "Epoch [4/5], Step [8000/12500], Loss: 1.6916\n",
      "Epoch [4/5], Step [10000/12500], Loss: 1.8078\n",
      "Epoch [4/5], Step [12000/12500], Loss: 0.7119\n",
      "Epoch [5/5], Step [2000/12500], Loss: 1.5082\n",
      "Epoch [5/5], Step [4000/12500], Loss: 1.5293\n",
      "Epoch [5/5], Step [6000/12500], Loss: 1.9335\n",
      "Epoch [5/5], Step [8000/12500], Loss: 1.1612\n",
      "Epoch [5/5], Step [10000/12500], Loss: 1.2432\n",
      "Epoch [5/5], Step [12000/12500], Loss: 0.5104\n",
      "Finished Training\n",
      "Accuracy of the network: 49.26 %\n",
      "Accuracy of plane: 51.8 %\n",
      "Accuracy of car: 59.7 %\n",
      "Accuracy of bird: 33.6 %\n",
      "Accuracy of cat: 20.6 %\n",
      "Accuracy of deer: 44.4 %\n",
      "Accuracy of dog: 37.2 %\n",
      "Accuracy of frog: 62.7 %\n",
      "Accuracy of horse: 62.7 %\n",
      "Accuracy of ship: 74.3 %\n",
      "Accuracy of truck: 45.6 %\n"
     ]
    }
   ],
   "source": [
    "import torch\n",
    "import torch.nn as nn\n",
    "import torch.nn.functional as F\n",
    "import torchvision\n",
    "import torchvision.transforms as transforms\n",
    "import matplotlib.pyplot as plt\n",
    "import numpy as np\n",
    "\n",
    "# Device configuration\n",
    "device = torch.device('cuda' if torch.cuda.is_available() else 'cpu')\n",
    "\n",
    "# Hyper-parameters \n",
    "num_epochs = 5\n",
    "batch_size = 4\n",
    "learning_rate = 0.001\n",
    "\n",
    "# dataset has PILImage images of range [0, 1]. \n",
    "# We transform them to Tensors of normalized range [-1, 1]\n",
    "transform = transforms.Compose(\n",
    "    [transforms.ToTensor(),\n",
    "     transforms.Normalize((0.5, 0.5, 0.5), (0.5, 0.5, 0.5))])\n",
    "\n",
    "# CIFAR10: 60000 32x32 color images in 10 classes, with 6000 images per class\n",
    "train_dataset = torchvision.datasets.CIFAR10(root='./data', train=True,\n",
    "                                        download=True, transform=transform)\n",
    "\n",
    "test_dataset = torchvision.datasets.CIFAR10(root='./data', train=False,\n",
    "                                       download=True, transform=transform)\n",
    "\n",
    "train_loader = torch.utils.data.DataLoader(train_dataset, batch_size=batch_size,\n",
    "                                          shuffle=True)\n",
    "\n",
    "test_loader = torch.utils.data.DataLoader(test_dataset, batch_size=batch_size,\n",
    "                                         shuffle=False)\n",
    "\n",
    "classes = ('plane', 'car', 'bird', 'cat',\n",
    "           'deer', 'dog', 'frog', 'horse', 'ship', 'truck')\n",
    "\n",
    "def imshow(img):\n",
    "    img = img / 2 + 0.5  # unnormalize\n",
    "    npimg = img.numpy()\n",
    "    plt.imshow(np.transpose(npimg, (1, 2, 0)))\n",
    "    plt.show()\n",
    "\n",
    "\n",
    "# get some random training images\n",
    "dataiter = iter(train_loader)\n",
    "images, labels = next(dataiter)\n",
    "\n",
    "# show images\n",
    "imshow(torchvision.utils.make_grid(images))\n",
    "\n",
    "class ConvNet(nn.Module):\n",
    "    def __init__(self):\n",
    "        super(ConvNet, self).__init__()\n",
    "        self.conv1 = nn.Conv2d(3, 6, 5)\n",
    "        self.pool = nn.MaxPool2d(2, 2)\n",
    "        self.conv2 = nn.Conv2d(6, 16, 5)\n",
    "        self.fc1 = nn.Linear(16 * 5 * 5, 120)\n",
    "        self.fc2 = nn.Linear(120, 84)\n",
    "        self.fc3 = nn.Linear(84, 10)\n",
    "\n",
    "    def forward(self, x):\n",
    "        # -> n, 3, 32, 32\n",
    "        x = self.pool(F.relu(self.conv1(x)))  # -> n, 6, 14, 14\n",
    "        x = self.pool(F.relu(self.conv2(x)))  # -> n, 16, 5, 5\n",
    "        x = x.view(-1, 16 * 5 * 5)            # -> n, 400\n",
    "        x = F.relu(self.fc1(x))               # -> n, 120\n",
    "        x = F.relu(self.fc2(x))               # -> n, 84\n",
    "        x = self.fc3(x)                       # -> n, 10\n",
    "        return x\n",
    "\n",
    "\n",
    "model = ConvNet().to(device)\n",
    "\n",
    "criterion = nn.CrossEntropyLoss()\n",
    "optimizer = torch.optim.SGD(model.parameters(), lr=learning_rate)\n",
    "\n",
    "n_total_steps = len(train_loader)\n",
    "for epoch in range(num_epochs):\n",
    "    for i, (images, labels) in enumerate(train_loader):\n",
    "        # origin shape: [4, 3, 32, 32] = 4, 3, 1024\n",
    "        # input_layer: 3 input channels, 6 output channels, 5 kernel size\n",
    "        images = images.to(device)\n",
    "        labels = labels.to(device)\n",
    "\n",
    "        # Forward pass\n",
    "        outputs = model(images)\n",
    "        loss = criterion(outputs, labels)\n",
    "\n",
    "        # Backward and optimize\n",
    "        optimizer.zero_grad()\n",
    "        loss.backward()\n",
    "        optimizer.step()\n",
    "\n",
    "        if (i+1) % 2000 == 0:\n",
    "            print (f'Epoch [{epoch+1}/{num_epochs}], Step [{i+1}/{n_total_steps}], Loss: {loss.item():.4f}')\n",
    "\n",
    "print('Finished Training')\n",
    "PATH = './cnn.pth'\n",
    "torch.save(model.state_dict(), PATH)\n",
    "\n",
    "with torch.no_grad():\n",
    "    n_correct = 0\n",
    "    n_samples = 0\n",
    "    n_class_correct = [0 for i in range(10)]\n",
    "    n_class_samples = [0 for i in range(10)]\n",
    "    for images, labels in test_loader:\n",
    "        images = images.to(device)\n",
    "        labels = labels.to(device)\n",
    "        outputs = model(images)\n",
    "        # max returns (value ,index)\n",
    "        _, predicted = torch.max(outputs, 1)\n",
    "        n_samples += labels.size(0)\n",
    "        n_correct += (predicted == labels).sum().item()\n",
    "        \n",
    "        for i in range(batch_size):\n",
    "            label = labels[i]\n",
    "            pred = predicted[i]\n",
    "            if (label == pred):\n",
    "                n_class_correct[label] += 1\n",
    "            n_class_samples[label] += 1\n",
    "\n",
    "    acc = 100.0 * n_correct / n_samples\n",
    "    print(f'Accuracy of the network: {acc} %')\n",
    "\n",
    "    for i in range(10):\n",
    "        acc = 100.0 * n_class_correct[i] / n_class_samples[i]\n",
    "        print(f'Accuracy of {classes[i]}: {acc} %')\n"
   ]
  },
  {
   "cell_type": "code",
   "execution_count": null,
   "id": "4f257245",
   "metadata": {},
   "outputs": [],
   "source": []
  }
 ],
 "metadata": {
  "kernelspec": {
   "display_name": "Python (pytorch_env)",
   "language": "python",
   "name": "pytorch_env"
  },
  "language_info": {
   "codemirror_mode": {
    "name": "ipython",
    "version": 3
   },
   "file_extension": ".py",
   "mimetype": "text/x-python",
   "name": "python",
   "nbconvert_exporter": "python",
   "pygments_lexer": "ipython3",
   "version": "3.10.16"
  }
 },
 "nbformat": 4,
 "nbformat_minor": 5
}
